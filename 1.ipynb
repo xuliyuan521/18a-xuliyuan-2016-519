{
 "cells": [
  {
   "cell_type": "code",
   "execution_count": 1,
   "metadata": {},
   "outputs": [],
   "source": [
    "%matplotlib inline\n",
    "\n",
    "import numpy as np\n",
    "from PIL import Image\n",
    "from matplotlib import pyplot as plt\n",
    "\n",
    "import tensorflow as tf\n",
    "from tensorflow.examples.tutorials.mnist import input_data"
   ]
  },
  {
   "cell_type": "code",
   "execution_count": 2,
   "metadata": {},
   "outputs": [
    {
     "name": "stdout",
     "output_type": "stream",
     "text": [
      "WARNING:tensorflow:From <ipython-input-2-de93703ab058>:1: read_data_sets (from tensorflow.contrib.learn.python.learn.datasets.mnist) is deprecated and will be removed in a future version.\n",
      "Instructions for updating:\n",
      "Please use alternatives such as official/mnist/dataset.py from tensorflow/models.\n",
      "WARNING:tensorflow:From /home/wangziwei/targetDirectory/lib/python3.5/site-packages/tensorflow/contrib/learn/python/learn/datasets/mnist.py:260: maybe_download (from tensorflow.contrib.learn.python.learn.datasets.base) is deprecated and will be removed in a future version.\n",
      "Instructions for updating:\n",
      "Please write your own downloading logic.\n",
      "WARNING:tensorflow:From /home/wangziwei/targetDirectory/lib/python3.5/site-packages/tensorflow/contrib/learn/python/learn/datasets/base.py:252: _internal_retry.<locals>.wrap.<locals>.wrapped_fn (from tensorflow.contrib.learn.python.learn.datasets.base) is deprecated and will be removed in a future version.\n",
      "Instructions for updating:\n",
      "Please use urllib or similar directly.\n",
      "Successfully downloaded train-images-idx3-ubyte.gz 9912422 bytes.\n",
      "WARNING:tensorflow:From /home/wangziwei/targetDirectory/lib/python3.5/site-packages/tensorflow/contrib/learn/python/learn/datasets/mnist.py:262: extract_images (from tensorflow.contrib.learn.python.learn.datasets.mnist) is deprecated and will be removed in a future version.\n",
      "Instructions for updating:\n",
      "Please use tf.data to implement this functionality.\n",
      "Extracting /home/wangziwei/深度学习/PPT/train-images-idx3-ubyte.gz\n",
      "Successfully downloaded train-labels-idx1-ubyte.gz 28881 bytes.\n",
      "WARNING:tensorflow:From /home/wangziwei/targetDirectory/lib/python3.5/site-packages/tensorflow/contrib/learn/python/learn/datasets/mnist.py:267: extract_labels (from tensorflow.contrib.learn.python.learn.datasets.mnist) is deprecated and will be removed in a future version.\n",
      "Instructions for updating:\n",
      "Please use tf.data to implement this functionality.\n",
      "Extracting /home/wangziwei/深度学习/PPT/train-labels-idx1-ubyte.gz\n",
      "WARNING:tensorflow:From /home/wangziwei/targetDirectory/lib/python3.5/site-packages/tensorflow/contrib/learn/python/learn/datasets/mnist.py:110: dense_to_one_hot (from tensorflow.contrib.learn.python.learn.datasets.mnist) is deprecated and will be removed in a future version.\n",
      "Instructions for updating:\n",
      "Please use tf.one_hot on tensors.\n",
      "Successfully downloaded t10k-images-idx3-ubyte.gz 1648877 bytes.\n",
      "Extracting /home/wangziwei/深度学习/PPT/t10k-images-idx3-ubyte.gz\n",
      "Successfully downloaded t10k-labels-idx1-ubyte.gz 4542 bytes.\n",
      "Extracting /home/wangziwei/深度学习/PPT/t10k-labels-idx1-ubyte.gz\n",
      "WARNING:tensorflow:From /home/wangziwei/targetDirectory/lib/python3.5/site-packages/tensorflow/contrib/learn/python/learn/datasets/mnist.py:290: DataSet.__init__ (from tensorflow.contrib.learn.python.learn.datasets.mnist) is deprecated and will be removed in a future version.\n",
      "Instructions for updating:\n",
      "Please use alternatives such as official/mnist/dataset.py from tensorflow/models.\n"
     ]
    }
   ],
   "source": [
    "mnist = input_data.read_data_sets('/home/wangziwei/深度学习/PPT', one_hot = True)"
   ]
  },
  {
   "cell_type": "code",
   "execution_count": 3,
   "metadata": {},
   "outputs": [
    {
     "data": {
      "text/plain": [
       "(55000, 784)"
      ]
     },
     "execution_count": 3,
     "metadata": {},
     "output_type": "execute_result"
    }
   ],
   "source": [
    "mnist.train.images.shape"
   ]
  },
  {
   "cell_type": "code",
   "execution_count": 6,
   "metadata": {},
   "outputs": [
    {
     "data": {
      "text/plain": [
       "<matplotlib.image.AxesImage at 0x7fa2b547eb38>"
      ]
     },
     "execution_count": 6,
     "metadata": {},
     "output_type": "execute_result"
    },
    {
     "data": {
      "image/png": "[encoded data removed]",
      "text/plain": [
       "<Figure size 432x288 with 1 Axes>"
      ]
     },
     "metadata": {
      "needs_background": "light"
     },
     "output_type": "display_data"
    }
   ],
   "source": [
    "plt.imshow((mnist.train.images[0] * 255).astype(np.uint8).reshape([28, 28]))"
   ]
  },
  {
   "cell_type": "code",
   "execution_count": 7,
   "metadata": {},
   "outputs": [
    {
     "data": {
      "text/plain": [
       "array([0., 0., 0., 1., 0., 0., 0., 0., 0., 0.])"
      ]
     },
     "execution_count": 7,
     "metadata": {},
     "output_type": "execute_result"
    }
   ],
   "source": [
    "mnist.train.labels[1]"
   ]
  },
  {
   "cell_type": "code",
   "execution_count": 8,
   "metadata": {},
   "outputs": [],
   "source": [
    "batch_images, batch_labels = mnist.train.next_batch(32)"
   ]
  },
  {
   "cell_type": "code",
   "execution_count": 9,
   "metadata": {},
   "outputs": [
    {
     "data": {
      "text/plain": [
       "(32, 784)"
      ]
     },
     "execution_count": 9,
     "metadata": {},
     "output_type": "execute_result"
    }
   ],
   "source": [
    "batch_images.shape"
   ]
  },
  {
   "cell_type": "code",
   "execution_count": 19,
   "metadata": {},
   "outputs": [],
   "source": [
    "with tf.Graph().as_default() as g:\n",
    "    inputs = tf.placeholder(shape = [None, 784], dtype = tf.float32)\n",
    "    labels = tf.placeholder(shape = [None, 10], dtype = tf.float32)\n",
    "    \n",
    "    \n",
    "    \n",
    "    out_weight = tf.Variable(tf.random_normal([784, 10]))\n",
    "    out_bias = tf.Variable(tf.zeros([10, ]))\n",
    "    logits = tf.matmul(inputs, out_weight) + out_bias\n",
    "    output = tf.nn.softmax(logits)   #shape([None, 10])\n",
    "    \n",
    "    loss = tf.reduce_mean(-tf.reduce_sum(labels * tf.log(output + 1e-17), axis = 1))\n",
    "    acc = tf.reduce_mean(tf.cast(tf.equal(tf.argmax(output, axis = 1), tf.argmax(labels, axis = 1)), tf.float32))\n",
    "    \n",
    "    optim = tf.train.GradientDescentOptimizer(learning_rate = 0.01)\n",
    "    train_op = optim.minimize(loss)"
   ]
  },
  {
   "cell_type": "code",
   "execution_count": 21,
   "metadata": {},
   "outputs": [
    {
     "name": "stdout",
     "output_type": "stream",
     "text": [
      "loss 16.2287, acc 8.42%\n",
      "loss 3.8522, acc 26.47%\n",
      "loss 4.1088, acc 43.01%\n",
      "loss 1.3275, acc 54.06%\n",
      "loss 2.6764, acc 60.65%\n",
      "loss 1.9308, acc 64.12%\n",
      "loss 2.3380, acc 67.22%\n",
      "loss 0.9899, acc 69.44%\n",
      "loss 0.6410, acc 71.46%\n",
      "loss 1.6618, acc 72.98%\n",
      "loss 2.2010, acc 74.31%\n",
      "loss 1.7055, acc 75.48%\n",
      "loss 1.0555, acc 76.52%\n",
      "loss 0.6386, acc 77.37%\n",
      "loss 0.9667, acc 78.11%\n",
      "loss 0.9370, acc 78.67%\n",
      "loss 1.3488, acc 79.36%\n",
      "loss 0.6598, acc 79.72%\n",
      "loss 0.4963, acc 80.40%\n",
      "loss 0.7903, acc 80.89%\n"
     ]
    }
   ],
   "source": [
    "#训练模型\n",
    "with tf.Session(graph = g) as sess:\n",
    "    sess.run(tf.global_variables_initializer())\n",
    "    for i in range(10000):\n",
    "        batch_images, batch_labels = mnist.train.next_batch(32)\n",
    "        res_loss, _ = sess.run([loss, train_op], feed_dict = {inputs: batch_images, labels: batch_labels})\n",
    "        if i % 500 == 0:\n",
    "            accs = []\n",
    "            for j in range(10000 // 32):\n",
    "                batch_images, batch_labels = mnist.test.next_batch(32)\n",
    "                res_acc = sess.run(acc, feed_dict = {inputs: batch_images, labels: batch_labels})\n",
    "                accs.append(res_acc)\n",
    "            m_acc = np.mean(accs)\n",
    "            print('loss %2.4f, acc %2.2f%%' % (res_loss, m_acc * 100))"
   ]
  },
  {
   "cell_type": "code",
   "execution_count": null,
   "metadata": {},
   "outputs": [],
   "source": [
    "tf.keras.losses.binary_crossentropy"
   ]
  }
 ],
 "metadata": {
  "kernelspec": {
   "display_name": "Python 3",
   "language": "python",
   "name": "python3"
  },
  "language_info": {
   "codemirror_mode": {
    "name": "ipython",
    "version": 3
   },
   "file_extension": ".py",
   "mimetype": "text/x-python",
   "name": "python",
   "nbconvert_exporter": "python",
   "pygments_lexer": "ipython3",
   "version": "3.6.4"
  }
 },
 "nbformat": 4,
 "nbformat_minor": 2
}
