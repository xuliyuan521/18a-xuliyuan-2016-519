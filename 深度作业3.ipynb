{
 "cells": [
  {
   "cell_type": "code",
   "execution_count": 2,
   "metadata": {},
   "outputs": [],
   "source": [
    "#算法实现\n",
    "\n",
    "import numpy as np\n",
    "\n",
    "def lms(X, W, b):\n",
    "    X = np.array(X)\n",
    "    return np.sum(X * W) + b"
   ]
  },
  {
   "cell_type": "code",
   "execution_count": 3,
   "metadata": {},
   "outputs": [
    {
     "name": "stdout",
     "output_type": "stream",
     "text": [
      "(1000,)\n"
     ]
    }
   ],
   "source": [
    "# 数据可视化\n",
    "\n",
    "from sklearn.datasets import make_regression\n",
    "from sklearn.model_selection import train_test_split\n",
    "from matplotlib import pyplot as plt\n",
    "from sklearn.decomposition import PCA\n",
    "import itertools\n",
    "\n",
    "num_train = 1000\n",
    "num_test = 100\n",
    "\n",
    "#制作数据集\n",
    "data = make_regression(n_samples = num_train, n_features = 2)\n",
    "\n",
    "#可视化数据集\n",
    "plt.figure(figsize = [12, 4], dpi = 100)\n",
    "plt.subplot(1, 2, 1)\n",
    "plt.scatter(data[0][:, 0], data[0][:, 1], 1)\n",
    "plt.xlabel('x_1')\n",
    "plt.ylabel('x_2')\n",
    "plt.subplot(1, 2, 2)\n",
    "x = PCA(n_components = 1).fit_transform(data[0])\n",
    "plt.scatter(x, data[1], 1)\n",
    "plt.xlabel('x')\n",
    "plt.ylabel('y')\n",
    "\n",
    "\n",
    "print(data[1].shape)\n",
    "#将数据集分割为训练集和测试集，并转成可迭代对象\n",
    "train_x, test_x, train_y, test_y = [itertools.cycle(i) for i in train_test_split(data[0], data[1], test_size=num_test)] "
   ]
  },
  {
   "cell_type": "code",
   "execution_count": null,
   "metadata": {},
   "outputs": [],
   "source": []
  },
  {
   "cell_type": "code",
   "execution_count": 5,
   "metadata": {},
   "outputs": [
    {
     "data": {
      "text/plain": [
       "Text(0, 0.5, 'losses')"
      ]
     },
     "execution_count": 5,
     "metadata": {},
     "output_type": "execute_result"
    },
    {
     "data": {
      "image/png": "[encoded data removed]",
      "text/plain": [
       "<Figure size 800x300 with 1 Axes>"
      ]
     },
     "metadata": {
      "needs_background": "light"
     },
     "output_type": "display_data"
    }
   ],
   "source": [
    "#训练数据\n",
    "\n",
    "from sklearn.metrics import mean_squared_error as mse\n",
    "\n",
    "train_steps = 2000\n",
    "lr = 0.01\n",
    "summary_step = 20\n",
    "summary = []\n",
    "\n",
    "#初始化连接权重和偏置量\n",
    "W = np.random.randn(2)\n",
    "b = 0\n",
    "tmp_W = 0\n",
    "tmp_b = 0\n",
    "\n",
    "for i in range(train_steps):\n",
    "    if i % summary_step == 0:\n",
    "        tmp = []\n",
    "        for j in range(num_test):\n",
    "            X = next(test_x)\n",
    "            label = next(test_y)\n",
    "            out = lms(X, W, b)\n",
    "            tmp.append(np.array([label, out]))\n",
    "        tmp = np.array(tmp)\n",
    "        #计算均方误差代价\n",
    "        loss = mse(tmp[:, 0], tmp[:, 1])\n",
    "        summary.append(np.array([i + 1, loss]))\n",
    "    # 获得一个样本，并输入模型得到模型输出结果\n",
    "    X = next(train_x)\n",
    "    label = next(train_y)\n",
    "    out = lms(X, W, b)\n",
    "    \n",
    "    # 计算偏导数\n",
    "    dW = -X * (label - out)\n",
    "    db = -1 * (label - out)\n",
    "    \n",
    "    tmp_W = tmp_W + dW\n",
    "    tmp_b = tmp_b + db\n",
    "    \n",
    "    #更新模型参数\n",
    "    if i % 32 == 31:\n",
    "        W = W - lr * (tmp_W / 32)\n",
    "        b = b - lr * (tmp_b / 32)\n",
    "        tmp_W = 0\n",
    "        tmp_b = 0\n",
    "\n",
    "# 可视化摘要\n",
    "summary = np.array(summary)    \n",
    "plt.figure(figsize=[8, 3], dpi=100)\n",
    "plt.plot(summary[:, 0], summary[:, 1])\n",
    "plt.xlabel('step')\n",
    "plt.ylabel('losses')\n",
    "        "
   ]
  },
  {
   "cell_type": "code",
   "execution_count": null,
   "metadata": {},
   "outputs": [],
   "source": []
  }
 ],
 "metadata": {
  "kernelspec": {
   "display_name": "Python 3",
   "language": "python",
   "name": "python3"
  },
  "language_info": {
   "codemirror_mode": {
    "name": "ipython",
    "version": 3
   },
   "file_extension": ".py",
   "mimetype": "text/x-python",
   "name": "python",
   "nbconvert_exporter": "python",
   "pygments_lexer": "ipython3",
   "version": "3.5.2"
  }
 },
 "nbformat": 4,
 "nbformat_minor": 2
}
