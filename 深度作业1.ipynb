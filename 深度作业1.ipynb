{
 "cells": [
  {
   "cell_type": "code",
   "execution_count": null,
   "metadata": {},
   "outputs": [],
   "source": [
    "#1.判断题\n",
    "\n",
    "（1）互连神经元的连接强度，即突触权值，用于存取获取的知识。          √\n",
    "（2）阶跃函数输出为0时，表示神经元兴奋。                          ×\n",
    "（3）循环神经网络是一种递归神经网络。                           √\n",
    "（4）强化学习是无教师学习。                                    √\n",
    "（5）sgn函数是一种S型函数（Sigmoid函数）                        ×\n",
    "（6）训练好的神经网络，去除一个神经元整个神经网络就无法正常工作。   ×\n",
    "（7）神经元的激活函数不能是线性函数。                           ×\n",
    "（8）使用神经网络进行模式分类，可以得到分类概率。                 √\n",
    "（9）M-P是一种单层前馈神经网络模型。                           √\n",
    "（10）神经网络擅长处理计算机视觉任务，所以一切计算机视觉问题使用神经网络解决都是最好的。  ×"
   ]
  },
  {
   "cell_type": "code",
   "execution_count": null,
   "metadata": {},
   "outputs": [],
   "source": [
    "#2.选择题\n",
    "\n",
    "（1）神经网络的基本要素包括（ABD）\n",
    "A.突触      B.加法器       C.S型函数        D.激活函数\n",
    "\n",
    "（2）神经网络的性质与能力中不包括（D）\n",
    "A.容错性       B.超大规模集成实现       C.自适应性        D.确定性\n",
    "\n",
    "（3）关于监督学习的理解错误的是（AC）\n",
    "A.神经网络无法在没有标签的数据中学习\n",
    "B.监督学习也被称为有教师学习\n",
    "C.强化学习是一种监督学习\n",
    "D.监督学习是一种利用数据标签训练模型，使模型尽量输出与标签一致的结果\n",
    "\n",
    "（4）以下哪些模型不是神经网络模型（B）\n",
    "A.RBF网络     B.SVM      C.RNN       D.SOM网络\n",
    "\n"
   ]
  },
  {
   "cell_type": "code",
   "execution_count": null,
   "metadata": {},
   "outputs": [],
   "source": [
    "#3.编写程序"
   ]
  },
  {
   "cell_type": "code",
   "execution_count": null,
   "metadata": {},
   "outputs": [],
   "source": [
    "import numpy as np"
   ]
  },
  {
   "cell_type": "code",
   "execution_count": null,
   "metadata": {},
   "outputs": [],
   "source": [
    "def sgn(x):\n",
    "    if x < 0:\n",
    "        return 0\n",
    "    else:\n",
    "        return 1"
   ]
  },
  {
   "cell_type": "code",
   "execution_count": null,
   "metadata": {},
   "outputs": [],
   "source": [
    "def logistic(x):\n",
    "    return 1./(1. + np.exp(-x))"
   ]
  }
 ],
 "metadata": {
  "kernelspec": {
   "display_name": "Python 3",
   "language": "python",
   "name": "python3"
  },
  "language_info": {
   "codemirror_mode": {
    "name": "ipython",
    "version": 3
   },
   "file_extension": ".py",
   "mimetype": "text/x-python",
   "name": "python",
   "nbconvert_exporter": "python",
   "pygments_lexer": "ipython3",
   "version": "3.6.4"
  }
 },
 "nbformat": 4,
 "nbformat_minor": 2
}
